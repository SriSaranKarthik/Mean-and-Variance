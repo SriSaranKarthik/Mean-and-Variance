{
 "cells": [
  {
   "cell_type": "markdown",
   "id": "15349feb-8443-446d-b2a1-6c2444292e1a",
   "metadata": {},
   "source": [
    "# EXPERIMENT 01: Mean and variance of a discrete distribution #\n",
    "# BY: K.SRISARAN KARTHIK \n",
    "# REG NO: 212224230275 "
   ]
  },
  {
   "cell_type": "code",
   "execution_count": 1,
   "id": "57441307-2af9-4aaa-b9d0-620584b526e2",
   "metadata": {},
   "outputs": [
    {
     "name": "stdin",
     "output_type": "stream",
     "text": [
      " 0 1 1 2 2 2 3 3 4 4 4 4\n"
     ]
    },
    {
     "name": "stdout",
     "output_type": "stream",
     "text": [
      "The Mean arrival rate is 2.500 \n",
      "The Variance of arrival from feeder is 1.750 \n",
      "The Standard deviation of arrival from feeder is 1.323 \n"
     ]
    }
   ],
   "source": [
    "import numpy as np\n",
    "L=[int(i) for i in input().split()]\n",
    "N=len(L); M=max(L) \n",
    "x=list();f=list()\n",
    "for i in range (M+1):\n",
    "    c = 0\n",
    "    for j in range(N):\n",
    "        if L[j]==i:\n",
    "            c=c+1\n",
    "    f.append(c)\n",
    "    x.append(i)\n",
    "sf=np.sum(f)\n",
    "p=list()\n",
    "for i in range(M+1):\n",
    "    p.append(f[i]/sf) \n",
    "mean=np.inner(x,p)\n",
    "EX2=np.inner(np.square(x),p)\n",
    "var=EX2-mean**2 \n",
    "SD=np.sqrt(var)\n",
    "print(\"The Mean arrival rate is %.3f \"%mean)\n",
    "print(\"The Variance of arrival from feeder is %.3f \"%var) \n",
    "print(\"The Standard deviation of arrival from feeder is %.3F \"%SD)"
   ]
  }
 ],
 "metadata": {
  "kernelspec": {
   "display_name": "Python 3 (ipykernel)",
   "language": "python",
   "name": "python3"
  },
  "language_info": {
   "codemirror_mode": {
    "name": "ipython",
    "version": 3
   },
   "file_extension": ".py",
   "mimetype": "text/x-python",
   "name": "python",
   "nbconvert_exporter": "python",
   "pygments_lexer": "ipython3",
   "version": "3.13.5"
  }
 },
 "nbformat": 4,
 "nbformat_minor": 5
}
